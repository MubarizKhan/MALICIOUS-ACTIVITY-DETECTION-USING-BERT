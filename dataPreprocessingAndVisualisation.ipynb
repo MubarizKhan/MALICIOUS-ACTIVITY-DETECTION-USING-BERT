{
 "cells": [
  {
   "cell_type": "markdown",
   "metadata": {},
   "source": [
    "# Data pre-processing & Data Cleaning"
   ]
  },
  {
   "cell_type": "code",
   "execution_count": 44,
   "metadata": {},
   "outputs": [],
   "source": [
    "import pandas as pd"
   ]
  },
  {
   "cell_type": "code",
   "execution_count": 45,
   "metadata": {},
   "outputs": [],
   "source": [
    "url = 'flowSunJun115.csv'\n",
    "df = pd.read_csv(url)"
   ]
  },
  {
   "cell_type": "code",
   "execution_count": 46,
   "metadata": {},
   "outputs": [
    {
     "name": "stdout",
     "output_type": "stream",
     "text": [
      "0          Normal\n",
      "1          Normal\n",
      "2          Normal\n",
      "3          Normal\n",
      "4          Normal\n",
      "           ...   \n",
      "275523     Normal\n",
      "275524     Normal\n",
      "275525     Normal\n",
      "275526     Normal\n",
      "275527     Normal\n",
      "Name: Tag, Length: 275528, dtype: object\n"
     ]
    },
    {
     "data": {
      "text/plain": [
       "(275528, 20)"
      ]
     },
     "execution_count": 46,
     "metadata": {},
     "output_type": "execute_result"
    }
   ],
   "source": [
    "print(df['Tag']) #Normal & Attack are the Tag/Labels\n",
    "df.shape"
   ]
  },
  {
   "cell_type": "code",
   "execution_count": 47,
   "metadata": {},
   "outputs": [
    {
     "data": {
      "text/plain": [
       "Index(['appName', 'source', 'protocolName', 'sourcePort', 'destination',\n",
       "       'destinationPort', 'direction', 'totalSourceBytes',\n",
       "       'totalDestinationBytes', 'totalDestinationPackets',\n",
       "       'totalSourcePackets', 'sourcePayloadAsBase64', 'sourcePayloadAsUTF',\n",
       "       'destinationPayloadAsBase64', 'destinationPayloadAsUTF',\n",
       "       'sourceTCPFlagsDescription', 'destinationTCPFlagsDescription',\n",
       "       'startDateTime', 'stopDateTime', 'Tag'],\n",
       "      dtype='object')"
      ]
     },
     "execution_count": 47,
     "metadata": {},
     "output_type": "execute_result"
    }
   ],
   "source": [
    "df.columns"
   ]
  },
  {
   "cell_type": "code",
   "execution_count": 48,
   "metadata": {},
   "outputs": [
    {
     "data": {
      "text/plain": [
       " Normal    247139\n",
       " Attack     19787\n",
       "             8546\n",
       " 0             56\n",
       "Name: Tag, dtype: int64"
      ]
     },
     "execution_count": 48,
     "metadata": {},
     "output_type": "execute_result"
    }
   ],
   "source": [
    "tag = df['Tag']\n",
    "tag.value_counts() # White Spaces in Tag Label & NaN\n"
   ]
  },
  {
   "cell_type": "markdown",
   "metadata": {},
   "source": []
  },
  {
   "cell_type": "markdown",
   "metadata": {},
   "source": [
    "## Removing Empty Spaces in 'Tag' Label"
   ]
  },
  {
   "cell_type": "code",
   "execution_count": 174,
   "metadata": {},
   "outputs": [],
   "source": [
    "import threading\n",
    "\n",
    "class Preprocessor:\n",
    "    \n",
    "    def __init__(self, csv_path='flowSunJun115.csv'):\n",
    "        self.df = pd.read_csv(csv_path)\n",
    "    \n",
    "    def get_df(self):\n",
    "        return self.df\n",
    "    \n",
    "    def remove_outlier(self, outliers):\n",
    "        print(\"Removing indexes : \",outliers )\n",
    "        self.df.drop(outliers, inplace=True)\n",
    "        print(\"Removed outliers !\")\n",
    "        print(self.df.shape)\n",
    "\n",
    "    def rem_space(self, var1,var2):\n",
    "        var1 = str(var1)\n",
    "        var2 = str(var2)\n",
    "        df = self.get_df()\n",
    "        outlier_indexes = df.loc[df['Tag'].isin([var1,var2])].index #Extract Rows w var1,var2 in em\n",
    "        print(type(outlier_indexes[0]))\n",
    "        print((outlier_indexes[0]))\n",
    "        return outlier_indexes\n",
    "    \n",
    "    def shape(self):\n",
    "        return self.df.shape\n",
    "    \n",
    "    def outlier_remover(self):\n",
    "        outlier_list = self.rem_space(' ', '0')\n",
    "        print(\"Outliers Count : \",len(outlier_list))\n",
    "        print(\"Step : \", step)\n",
    "        self.remove_outlier(outlier_list)\n",
    "        print(\"[*] Done !\\nNew shape : \",self.df.shape)\n",
    "        \n",
    "        \n",
    "    def attackNormalVisualize(self):\n",
    "        %matplotlib inline\n",
    "        tag = self.df['Tag']\n",
    "        tag.value_counts().plot(kind='bar')# White Spaces in Tag Label & NaN; as shown in barplot\n",
    "        print(tag.value_counts()[0])\n",
    "        plt.show()\n",
    "    \n",
    "    def tagZeroRemoval(self):\n",
    "        zeroOutliers = self.df.loc[self.df['Tag'].isin(['0'])].index\n",
    "        print(zeroOutliers)\n",
    "        self.df = self.df.drop(zeroOutliers)\n",
    "        \n",
    "    def attackProbability(self):\n",
    "        df_tag = self.df['Tag']\n",
    "        df_tag.value_counts()\n",
    "        Attack_count = df_tag.value_counts()[1]\n",
    "        Benign_count = df_tag.value_counts()[0]\n",
    "        TotalOutcomes = (Attack_count + Benign_count)\n",
    "        Attack_proba = ((Attack_count / (TotalOutcomes)) )\n",
    "\n",
    "        print(Attack_count ,'/', Attack_count + Benign_count, ', Attack_count:',Attack_count,'Benign_count:',Benign_count)\n",
    "        print(Attack_proba, 'Probability of Attack')\n",
    "#         return Attack_proba\n",
    "\n",
    "    def fill_NA(self):\n",
    "        self.df = self.df.fillna(0)\n",
    "        self.df['sourceTCPFlagsDescription'] = df['sourceTCPFlagsDescription'].replace('N/A', 0)\n",
    "        self.df['destinationTCPFlagsDescription'] = df['destinationTCPFlagsDescription'].replace('N/A', 0)\n",
    "#         print('?')\n",
    "        return self.df\n",
    "\n",
    "    def getTagValues(self):\n",
    "        TagValues = self.df['Tag']\n",
    "        return TagValues.value_counts()\n",
    "    \n",
    "    def scatter_plot(self):\n",
    "        plt.figure(figsize=(10, 5)) \n",
    "\n",
    "        x =  range(self.df['Tag'].size)\n",
    "        y =  self.df['Tag']\n",
    "        plt.scatter(x, y, marker='x', s=1)\n",
    "        plt.title(\"Relationship between Malicious & Benign Activity\")\n",
    "        plt.xlabel(\"Packet Arrival Order\")\n",
    "        plt.ylabel(\"Labels\")\n",
    "\n",
    "        plt.show()\n",
    "        \n",
    "        \n",
    "    def dropCertainColumns(self):\n",
    "        self.df = self.df.drop(columns=['totalSourcePackets','totalDestinationPackets','startDateTime','stopDateTime'])\n",
    "        return self.df\n",
    "\n",
    " \n",
    "\n",
    "        "
   ]
  },
  {
   "cell_type": "code",
   "execution_count": 115,
   "metadata": {},
   "outputs": [
    {
     "data": {
      "text/plain": [
       "Int64Index([ 73750,  73781,  73814,  73849,  73881,  73915,  73949,  73983,\n",
       "             74018,  74052,\n",
       "            ...\n",
       "            275265, 275292, 275320, 275350, 275380, 275410, 275434, 275460,\n",
       "            275487, 275515],\n",
       "           dtype='int64', length=6239)"
      ]
     },
     "execution_count": 115,
     "metadata": {},
     "output_type": "execute_result"
    }
   ],
   "source": [
    "df.loc[df['Tag'].isin([' ','0'])].index"
   ]
  },
  {
   "cell_type": "code",
   "execution_count": null,
   "metadata": {},
   "outputs": [],
   "source": []
  },
  {
   "cell_type": "code",
   "execution_count": 175,
   "metadata": {},
   "outputs": [
    {
     "name": "stdout",
     "output_type": "stream",
     "text": [
      "<class 'numpy.int64'>\n",
      "31\n",
      "Outliers Count :  8546\n",
      "Step :  1559\n",
      "Removing indexes :  Int64Index([    31,     64,     95,    124,    154,    183,    213,    243,\n",
      "               270,    295,\n",
      "            ...\n",
      "            275265, 275292, 275320, 275350, 275380, 275410, 275434, 275460,\n",
      "            275487, 275515],\n",
      "           dtype='int64', length=8546)\n",
      "Removed outliers !\n",
      "(266982, 20)\n",
      "[*] Done !\n",
      "New shape :  (266982, 20)\n"
     ]
    },
    {
     "data": {
      "text/plain": [
       "(266982, 20)"
      ]
     },
     "execution_count": 175,
     "metadata": {},
     "output_type": "execute_result"
    }
   ],
   "source": [
    "pp = Preprocessor()\n",
    "pp.shape()\n",
    "pp.outlier_remover()\n",
    "pp.shape()\n",
    "# pp.attackNormalVisualize()"
   ]
  },
  {
   "cell_type": "code",
   "execution_count": 177,
   "metadata": {
    "scrolled": false
   },
   "outputs": [
    {
     "data": {
      "image/png": "[encoded data removed]",
      "text/plain": [
       "<Figure size 720x360 with 1 Axes>"
      ]
     },
     "metadata": {
      "needs_background": "light"
     },
     "output_type": "display_data"
    }
   ],
   "source": [
    "# pp.outlier_remover()\n",
    "# tag = df['Tag']\n",
    "# pp.tagZeroRemoval()\n",
    "# pp.attackProbability()\n",
    "# pp.fill_NA()\n",
    "# pp.getTagValues()\n",
    "pp.scatter_plot()\n",
    "# pp.dropCertainColumns()\n",
    "# pp.attackNormalVisualize()\n"
   ]
  },
  {
   "cell_type": "code",
   "execution_count": 130,
   "metadata": {},
   "outputs": [
    {
     "name": "stdout",
     "output_type": "stream",
     "text": [
      "<class 'numpy.int64'>\n",
      "73750\n"
     ]
    },
    {
     "data": {
      "text/plain": [
       "Int64Index([ 73750,  73781,  73814,  73849,  73881,  73915,  73949,  73983,\n",
       "             74018,  74052,\n",
       "            ...\n",
       "            275265, 275292, 275320, 275350, 275380, 275410, 275434, 275460,\n",
       "            275487, 275515],\n",
       "           dtype='int64', length=6239)"
      ]
     },
     "execution_count": 130,
     "metadata": {},
     "output_type": "execute_result"
    }
   ],
   "source": [
    "rem_space(df,' ', '0')"
   ]
  },
  {
   "cell_type": "code",
   "execution_count": 85,
   "metadata": {},
   "outputs": [
    {
     "data": {
      "text/plain": [
       "(275528, 20)"
      ]
     },
     "execution_count": 85,
     "metadata": {},
     "output_type": "execute_result"
    }
   ],
   "source": [
    "df.shape"
   ]
  },
  {
   "cell_type": "markdown",
   "metadata": {},
   "source": [
    "### Attack Probability"
   ]
  },
  {
   "cell_type": "code",
   "execution_count": 68,
   "metadata": {},
   "outputs": [
    {
     "name": "stdout",
     "output_type": "stream",
     "text": [
      "19787 / 266926 , Attack_count: 19787 Benign_count: 247139\n",
      "0.0741291593924908 Probability of Attack\n"
     ]
    },
    {
     "data": {
      "text/plain": [
       "0.0741291593924908"
      ]
     },
     "execution_count": 68,
     "metadata": {},
     "output_type": "execute_result"
    }
   ],
   "source": []
  },
  {
   "cell_type": "markdown",
   "metadata": {},
   "source": [
    "## Removal of Outliers"
   ]
  },
  {
   "cell_type": "code",
   "execution_count": 165,
   "metadata": {},
   "outputs": [],
   "source": []
  },
  {
   "cell_type": "code",
   "execution_count": 145,
   "metadata": {},
   "outputs": [
    {
     "data": {
      "text/plain": [
       " Normal    247139\n",
       " Attack     19787\n",
       "             6239\n",
       " 0             37\n",
       "Name: Tag, dtype: int64"
      ]
     },
     "execution_count": 145,
     "metadata": {},
     "output_type": "execute_result"
    }
   ],
   "source": []
  },
  {
   "cell_type": "code",
   "execution_count": 169,
   "metadata": {},
   "outputs": [
    {
     "data": {
      "image/png": "[encoded data removed]",
      "text/plain": [
       "<Figure size 432x288 with 1 Axes>"
      ]
     },
     "metadata": {
      "needs_background": "light"
     },
     "output_type": "display_data"
    }
   ],
   "source": [
    "tag = df['Tag']\n",
    "tag.value_counts().plot(kind='bar')# White Spaces in Tag Label & NaN; as shown in barplot\n",
    "plt.ylabel('Frequency')\n",
    "plt.xlabel('Labels/Tags of Network Packets');\n",
    "plt.title(\"captured network packets\")\n",
    "plt.show()"
   ]
  },
  {
   "cell_type": "code",
   "execution_count": 25,
   "metadata": {},
   "outputs": [
    {
     "data": {
      "text/plain": [
       " Normal    247139\n",
       " Attack     19787\n",
       "Name: Tag, dtype: int64"
      ]
     },
     "execution_count": 25,
     "metadata": {},
     "output_type": "execute_result"
    }
   ],
   "source": [
    "kyun = df['Tag']\n",
    "kyun.value_counts()"
   ]
  },
  {
   "cell_type": "code",
   "execution_count": 26,
   "metadata": {},
   "outputs": [
    {
     "data": {
      "text/html": [
       "<div>\n",
       "<style scoped>\n",
       "    .dataframe tbody tr th:only-of-type {\n",
       "        vertical-align: middle;\n",
       "    }\n",
       "\n",
       "    .dataframe tbody tr th {\n",
       "        vertical-align: top;\n",
       "    }\n",
       "\n",
       "    .dataframe thead th {\n",
       "        text-align: right;\n",
       "    }\n",
       "</style>\n",
       "<table border=\"1\" class=\"dataframe\">\n",
       "  <thead>\n",
       "    <tr style=\"text-align: right;\">\n",
       "      <th></th>\n",
       "      <th>appName</th>\n",
       "      <th>source</th>\n",
       "      <th>protocolName</th>\n",
       "      <th>sourcePort</th>\n",
       "      <th>destination</th>\n",
       "      <th>destinationPort</th>\n",
       "      <th>direction</th>\n",
       "      <th>totalSourceBytes</th>\n",
       "      <th>totalDestinationBytes</th>\n",
       "      <th>sourcePayloadAsBase64</th>\n",
       "      <th>sourcePayloadAsUTF</th>\n",
       "      <th>destinationPayloadAsBase64</th>\n",
       "      <th>destinationPayloadAsUTF</th>\n",
       "      <th>sourceTCPFlagsDescription</th>\n",
       "      <th>destinationTCPFlagsDescription</th>\n",
       "      <th>Tag</th>\n",
       "    </tr>\n",
       "  </thead>\n",
       "  <tbody>\n",
       "    <tr>\n",
       "      <th>0</th>\n",
       "      <td>Unknown_UDP</td>\n",
       "      <td>192.168.5.122</td>\n",
       "      <td>udp_ip</td>\n",
       "      <td>5353</td>\n",
       "      <td>224.0.0.251</td>\n",
       "      <td>5353</td>\n",
       "      <td>L2R</td>\n",
       "      <td>2633658</td>\n",
       "      <td>0</td>\n",
       "      <td>0</td>\n",
       "      <td>0</td>\n",
       "      <td>0</td>\n",
       "      <td>0</td>\n",
       "      <td>N/A</td>\n",
       "      <td>N/A</td>\n",
       "      <td>Normal</td>\n",
       "    </tr>\n",
       "    <tr>\n",
       "      <th>1</th>\n",
       "      <td>Unknown_UDP</td>\n",
       "      <td>192.168.5.122</td>\n",
       "      <td>udp_ip</td>\n",
       "      <td>5353</td>\n",
       "      <td>224.0.0.251</td>\n",
       "      <td>5353</td>\n",
       "      <td>L2R</td>\n",
       "      <td>2633658</td>\n",
       "      <td>0</td>\n",
       "      <td>0</td>\n",
       "      <td>0</td>\n",
       "      <td>0</td>\n",
       "      <td>0</td>\n",
       "      <td>N/A</td>\n",
       "      <td>N/A</td>\n",
       "      <td>Normal</td>\n",
       "    </tr>\n",
       "    <tr>\n",
       "      <th>2</th>\n",
       "      <td>HTTPWeb</td>\n",
       "      <td>192.168.2.113</td>\n",
       "      <td>tcp_ip</td>\n",
       "      <td>4191</td>\n",
       "      <td>192.168.5.122</td>\n",
       "      <td>80</td>\n",
       "      <td>L2L</td>\n",
       "      <td>64</td>\n",
       "      <td>128</td>\n",
       "      <td>0</td>\n",
       "      <td>0</td>\n",
       "      <td>0</td>\n",
       "      <td>0</td>\n",
       "      <td>F A</td>\n",
       "      <td>R</td>\n",
       "      <td>Normal</td>\n",
       "    </tr>\n",
       "    <tr>\n",
       "      <th>3</th>\n",
       "      <td>HTTPWeb</td>\n",
       "      <td>192.168.2.113</td>\n",
       "      <td>tcp_ip</td>\n",
       "      <td>4191</td>\n",
       "      <td>192.168.5.122</td>\n",
       "      <td>80</td>\n",
       "      <td>L2L</td>\n",
       "      <td>64</td>\n",
       "      <td>128</td>\n",
       "      <td>0</td>\n",
       "      <td>0</td>\n",
       "      <td>0</td>\n",
       "      <td>0</td>\n",
       "      <td>F A</td>\n",
       "      <td>R</td>\n",
       "      <td>Normal</td>\n",
       "    </tr>\n",
       "    <tr>\n",
       "      <th>4</th>\n",
       "      <td>HTTPWeb</td>\n",
       "      <td>192.168.2.113</td>\n",
       "      <td>tcp_ip</td>\n",
       "      <td>4192</td>\n",
       "      <td>207.241.148.80</td>\n",
       "      <td>80</td>\n",
       "      <td>L2R</td>\n",
       "      <td>128</td>\n",
       "      <td>64</td>\n",
       "      <td>0</td>\n",
       "      <td>0</td>\n",
       "      <td>0</td>\n",
       "      <td>0</td>\n",
       "      <td>F A</td>\n",
       "      <td>F A</td>\n",
       "      <td>Normal</td>\n",
       "    </tr>\n",
       "    <tr>\n",
       "      <th>5</th>\n",
       "      <td>HTTPWeb</td>\n",
       "      <td>192.168.2.113</td>\n",
       "      <td>tcp_ip</td>\n",
       "      <td>4192</td>\n",
       "      <td>207.241.148.80</td>\n",
       "      <td>80</td>\n",
       "      <td>L2R</td>\n",
       "      <td>128</td>\n",
       "      <td>64</td>\n",
       "      <td>0</td>\n",
       "      <td>0</td>\n",
       "      <td>0</td>\n",
       "      <td>0</td>\n",
       "      <td>F A</td>\n",
       "      <td>F A</td>\n",
       "      <td>Normal</td>\n",
       "    </tr>\n",
       "    <tr>\n",
       "      <th>6</th>\n",
       "      <td>HTTPImageTransfer</td>\n",
       "      <td>192.168.2.110</td>\n",
       "      <td>tcp_ip</td>\n",
       "      <td>1864</td>\n",
       "      <td>216.49.88.12</td>\n",
       "      <td>80</td>\n",
       "      <td>L2R</td>\n",
       "      <td>128</td>\n",
       "      <td>128</td>\n",
       "      <td>0</td>\n",
       "      <td>0</td>\n",
       "      <td>0</td>\n",
       "      <td>0</td>\n",
       "      <td>F A</td>\n",
       "      <td>F A</td>\n",
       "      <td>Normal</td>\n",
       "    </tr>\n",
       "    <tr>\n",
       "      <th>7</th>\n",
       "      <td>HTTPImageTransfer</td>\n",
       "      <td>192.168.2.110</td>\n",
       "      <td>tcp_ip</td>\n",
       "      <td>1864</td>\n",
       "      <td>216.49.88.12</td>\n",
       "      <td>80</td>\n",
       "      <td>L2R</td>\n",
       "      <td>128</td>\n",
       "      <td>128</td>\n",
       "      <td>0</td>\n",
       "      <td>0</td>\n",
       "      <td>0</td>\n",
       "      <td>0</td>\n",
       "      <td>F A</td>\n",
       "      <td>F A</td>\n",
       "      <td>Normal</td>\n",
       "    </tr>\n",
       "    <tr>\n",
       "      <th>8</th>\n",
       "      <td>SecureWeb</td>\n",
       "      <td>192.168.2.113</td>\n",
       "      <td>tcp_ip</td>\n",
       "      <td>4186</td>\n",
       "      <td>63.245.209.72</td>\n",
       "      <td>443</td>\n",
       "      <td>L2R</td>\n",
       "      <td>64</td>\n",
       "      <td>0</td>\n",
       "      <td>0</td>\n",
       "      <td>0</td>\n",
       "      <td>0</td>\n",
       "      <td>0</td>\n",
       "      <td>F A</td>\n",
       "      <td>0</td>\n",
       "      <td>Normal</td>\n",
       "    </tr>\n",
       "    <tr>\n",
       "      <th>9</th>\n",
       "      <td>SecureWeb</td>\n",
       "      <td>192.168.2.113</td>\n",
       "      <td>tcp_ip</td>\n",
       "      <td>4186</td>\n",
       "      <td>63.245.209.72</td>\n",
       "      <td>443</td>\n",
       "      <td>L2R</td>\n",
       "      <td>64</td>\n",
       "      <td>0</td>\n",
       "      <td>0</td>\n",
       "      <td>0</td>\n",
       "      <td>0</td>\n",
       "      <td>0</td>\n",
       "      <td>F A</td>\n",
       "      <td>0</td>\n",
       "      <td>Normal</td>\n",
       "    </tr>\n",
       "    <tr>\n",
       "      <th>10</th>\n",
       "      <td>HTTPImageTransfer</td>\n",
       "      <td>192.168.2.110</td>\n",
       "      <td>tcp_ip</td>\n",
       "      <td>1868</td>\n",
       "      <td>184.51.176.80</td>\n",
       "      <td>80</td>\n",
       "      <td>L2R</td>\n",
       "      <td>128</td>\n",
       "      <td>64</td>\n",
       "      <td>0</td>\n",
       "      <td>0</td>\n",
       "      <td>0</td>\n",
       "      <td>0</td>\n",
       "      <td>F A</td>\n",
       "      <td>F A</td>\n",
       "      <td>Normal</td>\n",
       "    </tr>\n",
       "    <tr>\n",
       "      <th>11</th>\n",
       "      <td>HTTPImageTransfer</td>\n",
       "      <td>192.168.2.110</td>\n",
       "      <td>tcp_ip</td>\n",
       "      <td>1867</td>\n",
       "      <td>142.166.14.77</td>\n",
       "      <td>80</td>\n",
       "      <td>L2R</td>\n",
       "      <td>128</td>\n",
       "      <td>64</td>\n",
       "      <td>0</td>\n",
       "      <td>0</td>\n",
       "      <td>0</td>\n",
       "      <td>0</td>\n",
       "      <td>F A</td>\n",
       "      <td>F A</td>\n",
       "      <td>Normal</td>\n",
       "    </tr>\n",
       "    <tr>\n",
       "      <th>12</th>\n",
       "      <td>HTTPImageTransfer</td>\n",
       "      <td>192.168.2.110</td>\n",
       "      <td>tcp_ip</td>\n",
       "      <td>1868</td>\n",
       "      <td>184.51.176.80</td>\n",
       "      <td>80</td>\n",
       "      <td>L2R</td>\n",
       "      <td>128</td>\n",
       "      <td>64</td>\n",
       "      <td>0</td>\n",
       "      <td>0</td>\n",
       "      <td>0</td>\n",
       "      <td>0</td>\n",
       "      <td>F A</td>\n",
       "      <td>F A</td>\n",
       "      <td>Normal</td>\n",
       "    </tr>\n",
       "    <tr>\n",
       "      <th>13</th>\n",
       "      <td>HTTPImageTransfer</td>\n",
       "      <td>192.168.2.110</td>\n",
       "      <td>tcp_ip</td>\n",
       "      <td>1867</td>\n",
       "      <td>142.166.14.77</td>\n",
       "      <td>80</td>\n",
       "      <td>L2R</td>\n",
       "      <td>128</td>\n",
       "      <td>64</td>\n",
       "      <td>0</td>\n",
       "      <td>0</td>\n",
       "      <td>0</td>\n",
       "      <td>0</td>\n",
       "      <td>F A</td>\n",
       "      <td>F A</td>\n",
       "      <td>Normal</td>\n",
       "    </tr>\n",
       "    <tr>\n",
       "      <th>14</th>\n",
       "      <td>IMAP</td>\n",
       "      <td>192.168.1.104</td>\n",
       "      <td>tcp_ip</td>\n",
       "      <td>1452</td>\n",
       "      <td>192.168.5.122</td>\n",
       "      <td>143</td>\n",
       "      <td>L2L</td>\n",
       "      <td>64</td>\n",
       "      <td>150</td>\n",
       "      <td>0</td>\n",
       "      <td>0</td>\n",
       "      <td>KiBPSyBTdGlsbCBoZXJlDQoqIE9LIFN0aWxsIGhlcmUNC...</td>\n",
       "      <td>* OK Still here* OK Still here</td>\n",
       "      <td>A</td>\n",
       "      <td>P A</td>\n",
       "      <td>Normal</td>\n",
       "    </tr>\n",
       "    <tr>\n",
       "      <th>15</th>\n",
       "      <td>IMAP</td>\n",
       "      <td>192.168.1.104</td>\n",
       "      <td>tcp_ip</td>\n",
       "      <td>1452</td>\n",
       "      <td>192.168.5.122</td>\n",
       "      <td>143</td>\n",
       "      <td>L2L</td>\n",
       "      <td>64</td>\n",
       "      <td>150</td>\n",
       "      <td>0</td>\n",
       "      <td>0</td>\n",
       "      <td>KiBPSyBTdGlsbCBoZXJlDQoqIE9LIFN0aWxsIGhlcmUNC...</td>\n",
       "      <td>* OK Still here* OK Still here</td>\n",
       "      <td>A</td>\n",
       "      <td>P A</td>\n",
       "      <td>Normal</td>\n",
       "    </tr>\n",
       "    <tr>\n",
       "      <th>16</th>\n",
       "      <td>NetBIOS-IP</td>\n",
       "      <td>192.168.2.113</td>\n",
       "      <td>udp_ip</td>\n",
       "      <td>138</td>\n",
       "      <td>192.168.2.255</td>\n",
       "      <td>138</td>\n",
       "      <td>L2L</td>\n",
       "      <td>503</td>\n",
       "      <td>0</td>\n",
       "      <td>EQKUl8CoAnEAigDEAAAgRkVFRkZERkVFQ0VGRUVEQkREQ...</td>\n",
       "      <td>.......q.. FEEFFDFEECEFEEDBDDCACACACACACAAA A...</td>\n",
       "      <td>0</td>\n",
       "      <td>0</td>\n",
       "      <td>N/A</td>\n",
       "      <td>N/A</td>\n",
       "      <td>Normal</td>\n",
       "    </tr>\n",
       "    <tr>\n",
       "      <th>17</th>\n",
       "      <td>NetBIOS-IP</td>\n",
       "      <td>192.168.2.113</td>\n",
       "      <td>udp_ip</td>\n",
       "      <td>138</td>\n",
       "      <td>192.168.2.255</td>\n",
       "      <td>138</td>\n",
       "      <td>L2L</td>\n",
       "      <td>503</td>\n",
       "      <td>0</td>\n",
       "      <td>EQKUl8CoAnEAigDEAAAgRkVFRkZERkVFQ0VGRUVEQkREQ...</td>\n",
       "      <td>.......q.. FEEFFDFEECEFEEDBDDCACACACACACAAA A...</td>\n",
       "      <td>0</td>\n",
       "      <td>0</td>\n",
       "      <td>N/A</td>\n",
       "      <td>N/A</td>\n",
       "      <td>Normal</td>\n",
       "    </tr>\n",
       "    <tr>\n",
       "      <th>18</th>\n",
       "      <td>HTTPWeb</td>\n",
       "      <td>192.168.1.101</td>\n",
       "      <td>tcp_ip</td>\n",
       "      <td>2157</td>\n",
       "      <td>208.116.9.82</td>\n",
       "      <td>80</td>\n",
       "      <td>L2R</td>\n",
       "      <td>821</td>\n",
       "      <td>17086</td>\n",
       "      <td>R0VUIC9zb2x1dGlvbi5waHAgSFRUUC8xLjENCkhvc3Q6I...</td>\n",
       "      <td>GET /solution.php HTTP/1.1Host: www.stylusinc...</td>\n",
       "      <td>SFRUUC8xLjEgMjAwIE9LDQpEYXRlOiBTdW4sIDEzIEp1b...</td>\n",
       "      <td>HTTP/1.1 200 OKDate: Sun  13 Jun 2010 02:56:3...</td>\n",
       "      <td>F S P A</td>\n",
       "      <td>F S P A</td>\n",
       "      <td>Normal</td>\n",
       "    </tr>\n",
       "    <tr>\n",
       "      <th>19</th>\n",
       "      <td>HTTPWeb</td>\n",
       "      <td>192.168.1.101</td>\n",
       "      <td>tcp_ip</td>\n",
       "      <td>2156</td>\n",
       "      <td>67.212.184.66</td>\n",
       "      <td>80</td>\n",
       "      <td>L2R</td>\n",
       "      <td>1171</td>\n",
       "      <td>33942</td>\n",
       "      <td>R0VUIC9jYXRlZ29yaWVzLnBocD9jYXRlZ29yeT1Cb29rc...</td>\n",
       "      <td>GET /categories.php?category=Books&amp;parent_id=...</td>\n",
       "      <td>SFRUUC8xLjEgMjAwIE9LDQpEYXRlOiBTdW4sIDEzIEp1b...</td>\n",
       "      <td>HTTP/1.1 200 OKDate: Sun  13 Jun 2010 02:59:5...</td>\n",
       "      <td>S P A</td>\n",
       "      <td>F S P A</td>\n",
       "      <td>Normal</td>\n",
       "    </tr>\n",
       "  </tbody>\n",
       "</table>\n",
       "</div>"
      ],
      "text/plain": [
       "               appName           source protocolName sourcePort  \\\n",
       "0         Unknown_UDP    192.168.5.122       udp_ip       5353    \n",
       "1         Unknown_UDP    192.168.5.122       udp_ip       5353    \n",
       "2             HTTPWeb    192.168.2.113       tcp_ip       4191    \n",
       "3             HTTPWeb    192.168.2.113       tcp_ip       4191    \n",
       "4             HTTPWeb    192.168.2.113       tcp_ip       4192    \n",
       "5             HTTPWeb    192.168.2.113       tcp_ip       4192    \n",
       "6   HTTPImageTransfer    192.168.2.110       tcp_ip       1864    \n",
       "7   HTTPImageTransfer    192.168.2.110       tcp_ip       1864    \n",
       "8           SecureWeb    192.168.2.113       tcp_ip       4186    \n",
       "9           SecureWeb    192.168.2.113       tcp_ip       4186    \n",
       "10  HTTPImageTransfer    192.168.2.110       tcp_ip       1868    \n",
       "11  HTTPImageTransfer    192.168.2.110       tcp_ip       1867    \n",
       "12  HTTPImageTransfer    192.168.2.110       tcp_ip       1868    \n",
       "13  HTTPImageTransfer    192.168.2.110       tcp_ip       1867    \n",
       "14               IMAP    192.168.1.104       tcp_ip       1452    \n",
       "15               IMAP    192.168.1.104       tcp_ip       1452    \n",
       "16         NetBIOS-IP    192.168.2.113       udp_ip        138    \n",
       "17         NetBIOS-IP    192.168.2.113       udp_ip        138    \n",
       "18            HTTPWeb    192.168.1.101       tcp_ip       2157    \n",
       "19            HTTPWeb    192.168.1.101       tcp_ip       2156    \n",
       "\n",
       "         destination destinationPort direction totalSourceBytes  \\\n",
       "0       224.0.0.251            5353       L2R          2633658    \n",
       "1       224.0.0.251            5353       L2R          2633658    \n",
       "2     192.168.5.122              80       L2L               64    \n",
       "3     192.168.5.122              80       L2L               64    \n",
       "4    207.241.148.80              80       L2R              128    \n",
       "5    207.241.148.80              80       L2R              128    \n",
       "6      216.49.88.12              80       L2R              128    \n",
       "7      216.49.88.12              80       L2R              128    \n",
       "8     63.245.209.72             443       L2R               64    \n",
       "9     63.245.209.72             443       L2R               64    \n",
       "10    184.51.176.80              80       L2R              128    \n",
       "11    142.166.14.77              80       L2R              128    \n",
       "12    184.51.176.80              80       L2R              128    \n",
       "13    142.166.14.77              80       L2R              128    \n",
       "14    192.168.5.122             143       L2L               64    \n",
       "15    192.168.5.122             143       L2L               64    \n",
       "16    192.168.2.255             138       L2L              503    \n",
       "17    192.168.2.255             138       L2L              503    \n",
       "18     208.116.9.82              80       L2R              821    \n",
       "19    67.212.184.66              80       L2R             1171    \n",
       "\n",
       "   totalDestinationBytes                              sourcePayloadAsBase64  \\\n",
       "0                     0                                                  0    \n",
       "1                     0                                                  0    \n",
       "2                   128                                                  0    \n",
       "3                   128                                                  0    \n",
       "4                    64                                                  0    \n",
       "5                    64                                                  0    \n",
       "6                   128                                                  0    \n",
       "7                   128                                                  0    \n",
       "8                     0                                                  0    \n",
       "9                     0                                                  0    \n",
       "10                   64                                                  0    \n",
       "11                   64                                                  0    \n",
       "12                   64                                                  0    \n",
       "13                   64                                                  0    \n",
       "14                  150                                                  0    \n",
       "15                  150                                                  0    \n",
       "16                    0    EQKUl8CoAnEAigDEAAAgRkVFRkZERkVFQ0VGRUVEQkREQ...   \n",
       "17                    0    EQKUl8CoAnEAigDEAAAgRkVFRkZERkVFQ0VGRUVEQkREQ...   \n",
       "18                17086    R0VUIC9zb2x1dGlvbi5waHAgSFRUUC8xLjENCkhvc3Q6I...   \n",
       "19                33942    R0VUIC9jYXRlZ29yaWVzLnBocD9jYXRlZ29yeT1Cb29rc...   \n",
       "\n",
       "                                   sourcePayloadAsUTF  \\\n",
       "0                                                  0    \n",
       "1                                                  0    \n",
       "2                                                  0    \n",
       "3                                                  0    \n",
       "4                                                  0    \n",
       "5                                                  0    \n",
       "6                                                  0    \n",
       "7                                                  0    \n",
       "8                                                  0    \n",
       "9                                                  0    \n",
       "10                                                 0    \n",
       "11                                                 0    \n",
       "12                                                 0    \n",
       "13                                                 0    \n",
       "14                                                 0    \n",
       "15                                                 0    \n",
       "16   .......q.. FEEFFDFEECEFEEDBDDCACACACACACAAA A...   \n",
       "17   .......q.. FEEFFDFEECEFEEDBDDCACACACACACAAA A...   \n",
       "18   GET /solution.php HTTP/1.1Host: www.stylusinc...   \n",
       "19   GET /categories.php?category=Books&parent_id=...   \n",
       "\n",
       "                           destinationPayloadAsBase64  \\\n",
       "0                                                  0    \n",
       "1                                                  0    \n",
       "2                                                  0    \n",
       "3                                                  0    \n",
       "4                                                  0    \n",
       "5                                                  0    \n",
       "6                                                  0    \n",
       "7                                                  0    \n",
       "8                                                  0    \n",
       "9                                                  0    \n",
       "10                                                 0    \n",
       "11                                                 0    \n",
       "12                                                 0    \n",
       "13                                                 0    \n",
       "14   KiBPSyBTdGlsbCBoZXJlDQoqIE9LIFN0aWxsIGhlcmUNC...   \n",
       "15   KiBPSyBTdGlsbCBoZXJlDQoqIE9LIFN0aWxsIGhlcmUNC...   \n",
       "16                                                 0    \n",
       "17                                                 0    \n",
       "18   SFRUUC8xLjEgMjAwIE9LDQpEYXRlOiBTdW4sIDEzIEp1b...   \n",
       "19   SFRUUC8xLjEgMjAwIE9LDQpEYXRlOiBTdW4sIDEzIEp1b...   \n",
       "\n",
       "                              destinationPayloadAsUTF  \\\n",
       "0                                                  0    \n",
       "1                                                  0    \n",
       "2                                                  0    \n",
       "3                                                  0    \n",
       "4                                                  0    \n",
       "5                                                  0    \n",
       "6                                                  0    \n",
       "7                                                  0    \n",
       "8                                                  0    \n",
       "9                                                  0    \n",
       "10                                                 0    \n",
       "11                                                 0    \n",
       "12                                                 0    \n",
       "13                                                 0    \n",
       "14                    * OK Still here* OK Still here    \n",
       "15                    * OK Still here* OK Still here    \n",
       "16                                                 0    \n",
       "17                                                 0    \n",
       "18   HTTP/1.1 200 OKDate: Sun  13 Jun 2010 02:56:3...   \n",
       "19   HTTP/1.1 200 OKDate: Sun  13 Jun 2010 02:59:5...   \n",
       "\n",
       "   sourceTCPFlagsDescription destinationTCPFlagsDescription      Tag  \n",
       "0                       N/A                            N/A    Normal  \n",
       "1                       N/A                            N/A    Normal  \n",
       "2                       F A                              R    Normal  \n",
       "3                       F A                              R    Normal  \n",
       "4                       F A                            F A    Normal  \n",
       "5                       F A                            F A    Normal  \n",
       "6                       F A                            F A    Normal  \n",
       "7                       F A                            F A    Normal  \n",
       "8                       F A                              0    Normal  \n",
       "9                       F A                              0    Normal  \n",
       "10                      F A                            F A    Normal  \n",
       "11                      F A                            F A    Normal  \n",
       "12                      F A                            F A    Normal  \n",
       "13                      F A                            F A    Normal  \n",
       "14                        A                            P A    Normal  \n",
       "15                        A                            P A    Normal  \n",
       "16                      N/A                            N/A    Normal  \n",
       "17                      N/A                            N/A    Normal  \n",
       "18                  F S P A                        F S P A    Normal  \n",
       "19                    S P A                        F S P A    Normal  "
      ]
     },
     "execution_count": 26,
     "metadata": {},
     "output_type": "execute_result"
    }
   ],
   "source": [
    "values = {'sourceTCPFlagsDescription': 0, 'destinationTCPFlagsDescription': 0}\n",
    "df = df.fillna(value=values)\n",
    "df.head(20)\n",
    "\n",
    "\n"
   ]
  },
  {
   "cell_type": "code",
   "execution_count": 18,
   "metadata": {},
   "outputs": [],
   "source": [
    "# 'appName' : '',\n",
    "#           'source': '', \n",
    "#           'protocolName': '', \n",
    "#           'sourcePort': '', \n",
    "#           'destination': '',\n",
    "#           'destinationPort': '',\n",
    "#           'direction': '',\n",
    "#           'totalSourceBytes': '',\n",
    "#           'totalDestinationBytes': '',\n",
    "#           'totalDestinationPackets': '',\n",
    "#           'totalSourcePackets': '',\n",
    "#           'sourcePayloadAsBase64': '',\n",
    "#           'sourcePayloadAsUTF': '',\n",
    "#           'destinationPayloadAsBase64': '',\n",
    "#           'destinationPayloadAsUTF': '',\n",
    "#           'sourceTCPFlagsDescription': '',\n",
    "#           'destinationTCPFlagsDescription': '',          \n",
    "#           'startDateTime': '', \n",
    "#           'stopDateTime': '', \n",
    "#           'Tag': ''\n",
    "\n",
    "# totalSourcePackets\n",
    "# totalDestinationPackets\n",
    "# startDateTime\n",
    "# stopDateTime"
   ]
  },
  {
   "cell_type": "code",
   "execution_count": 21,
   "metadata": {},
   "outputs": [],
   "source": [
    "df = df.drop(columns=['totalSourcePackets','totalDestinationPackets','startDateTime','stopDateTime'])\n",
    "# df.head(20)\n"
   ]
  },
  {
   "cell_type": "code",
   "execution_count": 27,
   "metadata": {},
   "outputs": [
    {
     "data": {
      "text/plain": [
       " Normal    247139\n",
       " Attack     19787\n",
       "Name: Tag, dtype: int64"
      ]
     },
     "execution_count": 27,
     "metadata": {},
     "output_type": "execute_result"
    }
   ],
   "source": [
    "kyun.value_counts()"
   ]
  },
  {
   "cell_type": "markdown",
   "metadata": {},
   "source": [
    "#  Scatter Plot"
   ]
  },
  {
   "cell_type": "code",
   "execution_count": 29,
   "metadata": {},
   "outputs": [
    {
     "data": {
      "image/png": "[encoded data removed]",
      "text/plain": [
       "<Figure size 720x360 with 1 Axes>"
      ]
     },
     "metadata": {
      "needs_background": "light"
     },
     "output_type": "display_data"
    }
   ],
   "source": [
    "# plt.figure(figsize=(10, 5)) \n",
    "\n",
    "# x =  range(df['Tag'].size)\n",
    "# y =  df['Tag']\n",
    "\n",
    "# plt.scatter(x, y, marker='x', s=1)\n",
    "# plt.title(\"Relationship between Malicious & Benign Activity\")\n",
    "# plt.xlabel(\"Packet Arrival Order\")\n",
    "# plt.ylabel(\"Labels\")\n",
    "\n",
    "# plt.show()"
   ]
  },
  {
   "cell_type": "markdown",
   "metadata": {},
   "source": [
    "### Histogram"
   ]
  },
  {
   "cell_type": "code",
   "execution_count": 86,
   "metadata": {},
   "outputs": [],
   "source": [
    "# wt = df['Tag']\n",
    "# wt.hist(bins=5)\n",
    "# plt.xlabel(\"Labels in this current dataset\")\n",
    "# plt.ylabel(\"Frequency of Packets captured\")\n",
    "# plt.show()"
   ]
  },
  {
   "cell_type": "markdown",
   "metadata": {},
   "source": [
    "## Bar Plot\n"
   ]
  },
  {
   "cell_type": "code",
   "execution_count": 30,
   "metadata": {},
   "outputs": [
    {
     "data": {
      "image/png": "[encoded data removed]",
      "text/plain": [
       "<Figure size 432x288 with 1 Axes>"
      ]
     },
     "metadata": {
      "needs_background": "light"
     },
     "output_type": "display_data"
    }
   ],
   "source": [
    "tag = df['Tag']\n",
    "tag.value_counts().plot(kind='bar')# White Spaces in Tag Label & NaN; as shown in barplot\n",
    "plt.ylabel('Frequency')\n",
    "plt.xlabel('Labels/Tags');\n",
    "plt.title(\"captured network packets\")\n",
    "plt.show()\n"
   ]
  },
  {
   "cell_type": "code",
   "execution_count": null,
   "metadata": {},
   "outputs": [],
   "source": []
  },
  {
   "cell_type": "code",
   "execution_count": null,
   "metadata": {},
   "outputs": [],
   "source": []
  },
  {
   "cell_type": "markdown",
   "metadata": {},
   "source": [
    "## TFIDF"
   ]
  },
  {
   "cell_type": "code",
   "execution_count": 102,
   "metadata": {},
   "outputs": [
    {
     "data": {
      "text/plain": [
       "<15x15 sparse matrix of type '<class 'numpy.float64'>'\n",
       "\twith 15 stored elements in Compressed Sparse Row format>"
      ]
     },
     "execution_count": 102,
     "metadata": {},
     "output_type": "execute_result"
    }
   ],
   "source": [
    "from sklearn.feature_extraction.text import TfidfVectorizer\n",
    "df1 = df.drop(columns=['Tag'])\n",
    "# df1 = df1.drop\n",
    "# df1.head()\n",
    "tfidf = TfidfVectorizer()\n",
    "matrix_input = tfidf.fit_transform(df1)\n",
    "matrix_input"
   ]
  },
  {
   "cell_type": "markdown",
   "metadata": {},
   "source": [
    "## KMeans Clustering "
   ]
  },
  {
   "cell_type": "code",
   "execution_count": 106,
   "metadata": {},
   "outputs": [
    {
     "data": {
      "text/plain": [
       "array([0, 0, 0, 0, 0, 2, 0, 0, 0, 0, 0, 0, 0, 0, 1])"
      ]
     },
     "execution_count": 106,
     "metadata": {},
     "output_type": "execute_result"
    }
   ],
   "source": [
    "from sklearn.cluster import KMeans\n",
    "km = KMeans(n_clusters = 3)\n",
    "# print(km)\n",
    "km.fit(matrix_input)\n",
    "km.labels_"
   ]
  },
  {
   "cell_type": "code",
   "execution_count": 117,
   "metadata": {},
   "outputs": [],
   "source": [
    "#3 Using the elbow method to find out the optimal number of #clusters. \n",
    "#KMeans class from the sklearn library.from sklearn.cluster import KMeans\n",
    "wcss=[]#this loop will fit the k-means algorithm to our data and \n",
    "#second we will compute the within cluster sum of squares and #appended to our wcss list.for i in range(1,11): \n",
    "# kmeans = KMeans(n_clusters=i, init ='k-means++>', max_iter=300,  n_init=10,random_state=0 )#i above is between 1-10 numbers. init parameter is the random #initialization method  \n",
    "#we select kmeans++ method. max_iter parameter the maximum number of iterations there can be to \n",
    "#find the final clusters when the K-meands algorithm is running. we #enter the default value of 300\n",
    "#the next parameter is n_init which is the number of times the #K_means algorithm will be run with\n",
    "#different initial centroid.kmeans.fit(X)#kmeans algorithm fits to the X datasetwcss.append(kmeans.inertia_)#kmeans inertia_ attribute is:  Sum of squared distances of samples #to their closest cluster center.#4.Plot the elbow graphplt.plot(range(1,11),wcss)\n",
    "\n",
    "\n",
    "# for i in range(1,11): \n",
    "#     kmeans = KMeans(n_clusters=i, init ='k-means++', max_iter=300,  n_init=10,random_state=0 )\n",
    "#     kmeans.fit(matrix_input)\n",
    "#     wcss.append(kmeans.inertia_)\n",
    "    \n",
    "    \n",
    "    \n",
    "# plt.plot(range(1,11),wcss)\n",
    "# plt.title('The Elbow Method Graph')\n",
    "# plt.xlabel('Number of clusters')\n",
    "# plt.ylabel('WCSS')\n",
    "# plt.show()\n",
    "\n",
    "# print(wcss)"
   ]
  },
  {
   "cell_type": "code",
   "execution_count": 113,
   "metadata": {},
   "outputs": [],
   "source": [
    "# kmeans = KMeans(n_clusters=5, init ='k-means++', max_iter=300, n_init=10,random_state=0 )\n",
    "# y_kmeans = kmeans.fit_predict(matrix_input)\n",
    "# plt.scatter(matrix_input[y_kmeans==0, 0], matrix_input[y_kmeans==0, 1], s=100, c='red', label ='Cluster 1')\n",
    "# plt.scatter(matrix_input[y_kmeans==1, 0], matrix_input[y_kmeans==1, 1], s=100, c='blue', label ='Cluster 2')\n",
    "# plt.scatter(matrix_input[y_kmeans==2, 0], matrix_input[y_kmeans==2, 1], s=100, c='green', label ='Cluster 3')\n",
    "# plt.scatter(matrix_input[y_kmeans==3, 0], matrix_input[y_kmeans==3, 1], s=100, c='cyan', label ='Cluster 4')\n",
    "# plt.scatter(matrix_input[y_kmeans==4, 0], matrix_input[y_kmeans==4, 1], s=100, c='magenta', label ='Cluster 5')\n",
    "\n",
    "\n",
    "# plt.scatter(kmeans.cluster_centers_[:, 0], kmeans.cluster_centers_[:, 1], s=300, c='yellow', label = 'Centroids')\n",
    "# plt.title('Clusters of Customers')\n",
    "# plt.xlabel('Annual Income(k$)')\n",
    "# plt.ylabel('Spending Score(1-100')\n",
    "# plt.show()"
   ]
  },
  {
   "cell_type": "code",
   "execution_count": null,
   "metadata": {},
   "outputs": [],
   "source": []
  }
 ],
 "metadata": {
  "kernelspec": {
   "display_name": "Python 3",
   "language": "python",
   "name": "python3"
  },
  "language_info": {
   "codemirror_mode": {
    "name": "ipython",
    "version": 3
   },
   "file_extension": ".py",
   "mimetype": "text/x-python",
   "name": "python",
   "nbconvert_exporter": "python",
   "pygments_lexer": "ipython3",
   "version": "3.8.5"
  }
 },
 "nbformat": 4,
 "nbformat_minor": 4
}
